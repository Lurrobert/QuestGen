{
 "cells": [
  {
   "cell_type": "raw",
   "id": "eff896e9-2e30-4b9c-846c-71aac03db179",
   "metadata": {},
   "source": [
    "justext now suck for some reason"
   ]
  },
  {
   "cell_type": "code",
   "execution_count": 1,
   "id": "a58e6e5c-94df-4832-90cc-85e74a2b4bd5",
   "metadata": {},
   "outputs": [],
   "source": [
    "from readability import Document\n",
    "from bs4 import BeautifulSoup\n",
    "import requests"
   ]
  },
  {
   "cell_type": "code",
   "execution_count": 117,
   "id": "a5d608a1-4ed0-4762-a009-d44e8eca268b",
   "metadata": {},
   "outputs": [],
   "source": [
    "response = requests.get(\n",
    "    'https://seekingalpha.com/article/4565767-lucid-a-recovery-ev-play-for-2023'\n",
    ")\n",
    "doc = Document(response.content)\n",
    "text = doc.summary(html_partial=False)\n",
    "soup = BeautifulSoup(text)"
   ]
  },
  {
   "cell_type": "code",
   "execution_count": 118,
   "id": "fdb4401d-0f5c-4625-b4d0-4f1f960662d2",
   "metadata": {},
   "outputs": [],
   "source": [
    "result_sections = []\n",
    "for node in soup.findAll('p'):\n",
    "    result_sections.append(''.join(node.findAll(text=True)).strip())"
   ]
  },
  {
   "cell_type": "raw",
   "id": "fafd2821-4ba3-4ec2-a25d-fb96ba75823d",
   "metadata": {},
   "source": [
    "todo make additional filtering"
   ]
  },
  {
   "cell_type": "markdown",
   "id": "6e0b4cc8-e945-4880-82c2-8b66a237ff8e",
   "metadata": {},
   "source": [
    "# Full soup"
   ]
  },
  {
   "cell_type": "code",
   "execution_count": 119,
   "id": "bda9d81e-3dd6-43c9-8124-4cfb6287fb69",
   "metadata": {},
   "outputs": [],
   "source": [
    "full_soup = BeautifulSoup(response.content)"
   ]
  },
  {
   "cell_type": "raw",
   "id": "2b69bc5b-d270-45f3-a0ce-5d8ba5d3f60c",
   "metadata": {},
   "source": [
    "this is super seekingalpha specific"
   ]
  },
  {
   "cell_type": "code",
   "execution_count": 120,
   "id": "5c8a5b68-3f16-455a-9494-4d733eb713af",
   "metadata": {},
   "outputs": [],
   "source": [
    "elements = full_soup.find_all(name='p')"
   ]
  },
  {
   "cell_type": "code",
   "execution_count": 126,
   "id": "9f920916-faee-4dfd-861c-a5dcfac9fd17",
   "metadata": {},
   "outputs": [],
   "source": [
    "search_text = \"Lucid's capital position by\""
   ]
  },
  {
   "cell_type": "code",
   "execution_count": 129,
   "id": "2a731241-19b2-4ff0-9d62-d37d18b66928",
   "metadata": {},
   "outputs": [
    {
     "data": {
      "text/plain": [
       "'Lucid may be a promising recovery play as we are heading into 2023. Shares of the EV firm have seen a strong down-side revaluation in 2022, but Lucid, I believe, has considerable potential in the luxury EV segment which most EV manufacturers are not serving. Most EV companies focus on the production of either all-electric pickup trucks or SUVs, while the premium sedan market remains widely under-served. Given the strong market reception of Lucid’s first production car and easing supply chain pressures, I believe Lucid could surprise to the upside in 2023!'"
      ]
     },
     "execution_count": 129,
     "metadata": {},
     "output_type": "execute_result"
    }
   ],
   "source": [
    "result_sections[-1]"
   ]
  },
  {
   "cell_type": "code",
   "execution_count": 133,
   "id": "f0c4f6a9-f919-42dd-a701-ab1d59583633",
   "metadata": {},
   "outputs": [
    {
     "name": "stdout",
     "output_type": "stream",
     "text": [
      "<p class=\"paywall-full-content invisible\">Lucid now has a P/S ratio that is lower than the P/S ratios of Tesla (<a href=\"https://seekingalpha.com/symbol/TSLA\" title=\"Tesla, Inc.\">TSLA</a>) or Rivian Automotive (<a href=\"https://seekingalpha.com/symbol/RIVN\" title=\"Rivian Automotive, Inc.\">RIVN</a>), despite having strong potential for revenue growth in the less-crowded luxury sedan market. Lucid currently has a forward (FY 2024) P/S ratio of 2.5 X which compares against a P/S ratio of 3.8 X for Tesla and a price-to-sales ratio of 3.7 X for Rivian Automotive. The comparison to Tesla and Rivian is not straightforward -- due to differences in product and marketing strategies -- but it nonetheless shows that investors may have turned too bearish on the EV company.</p>\n",
      "----------\n"
     ]
    }
   ],
   "source": [
    "for element in elements:\n",
    "    if result_sections[-5] in element.text:\n",
    "        print(element)\n",
    "        print('-'*10)"
   ]
  },
  {
   "cell_type": "raw",
   "id": "d430cb1c-1c59-4344-be77-8e891ca0a107",
   "metadata": {},
   "source": [
    "this better be done on the JS side. It is much easier to be sure:\n",
    "1. go over all <P> tags in html\n",
    "2. add to each on of them unique indexx"
   ]
  },
  {
   "cell_type": "raw",
   "id": "05475c9e-0509-4459-b0c5-066de6a03381",
   "metadata": {},
   "source": [
    "let parser = new DOMParser();\n",
    "let doc = parser.parseFromString(html_text, 'text/html');\n",
    "\n",
    "// Extract the paragraphs as a list of elements\n",
    "let paragraphs = doc.getElementsByTagName('p');\n",
    "\n",
    "// Initialize a counter to keep track of the index\n",
    "let index = 0;\n",
    "\n",
    "// Iterate over the paragraphs\n",
    "for (let p of paragraphs) {\n",
    "  // Assign the index to the element as a custom attribute\n",
    "  p.setAttribute('data-index', index);\n",
    "  \n",
    "  // Increment the index\n",
    "  index++;\n",
    "}"
   ]
  },
  {
   "cell_type": "markdown",
   "id": "5715c853-15d4-464c-9ebd-28f9c1d379b6",
   "metadata": {
    "tags": []
   },
   "source": [
    "# GPT3 API"
   ]
  },
  {
   "cell_type": "code",
   "execution_count": 49,
   "id": "9ae94ad8-2e8d-4ccf-92ad-4e55f2061a84",
   "metadata": {},
   "outputs": [
    {
     "data": {
      "text/plain": [
       "True"
      ]
     },
     "execution_count": 49,
     "metadata": {},
     "output_type": "execute_result"
    }
   ],
   "source": [
    "import os\n",
    "import openai\n",
    "from dotenv import load_dotenv\n",
    "load_dotenv()"
   ]
  },
  {
   "cell_type": "code",
   "execution_count": null,
   "id": "8241eb8a-0508-4741-a5e5-a9b3c3fd9b28",
   "metadata": {},
   "outputs": [],
   "source": [
    "openai.api_key = os.getenv(\"OPENAI_API_KEY\")"
   ]
  },
  {
   "cell_type": "raw",
   "id": "d6e4500d-0f93-4a3f-bcb8-40c5d6cdaf97",
   "metadata": {},
   "source": [
    "# todo\n",
    "make GPT3 trained to return answers in a specific form. adjust the difficulty level"
   ]
  },
  {
   "cell_type": "code",
   "execution_count": 62,
   "id": "8d200d2c-5a37-41c0-9ae3-d22479134167",
   "metadata": {},
   "outputs": [],
   "source": [
    "prompt = \"\"\"\n",
    "make 2 pairs of questions and answers about this text:\n",
    "According to weather reports, a white Christmas is due this year across much of the country. However, as opposed to a light dusting, a potential bomb cyclone over the Midwest and a blizzard in the Northwest are expected. Meanwhile, heavy rain across New England and high winds across the East coast are set to hit in tandem ahead of the Christmas holiday weekend.\n",
    "\n",
    "Q: Where would be the potential bomb cyclone?\n",
    "A: over the Midwest and a blizzard in the Northwest\n",
    "\n",
    "Q: What will be the weather like across New England?\n",
    "A: heavy rain\n",
    "\n",
    "\n",
    "make 2 questions and answers about this text:\n",
    "\n",
    "\"\"\"\n"
   ]
  },
  {
   "cell_type": "code",
   "execution_count": 63,
   "id": "91bef987-f358-416c-9102-e9ad4279fe18",
   "metadata": {},
   "outputs": [],
   "source": [
    "responses = []\n",
    "for section in result_sections[2:5]:\n",
    "    response = openai.Completion.create(\n",
    "      model=\"text-davinci-003\",\n",
    "      prompt=prompt+section,\n",
    "      temperature=0.92,\n",
    "      max_tokens=256,\n",
    "      top_p=1,\n",
    "      best_of=1,\n",
    "      frequency_penalty=0,\n",
    "      presence_penalty=0\n",
    "    )\n",
    "    responses.append(response)"
   ]
  },
  {
   "cell_type": "code",
   "execution_count": 82,
   "id": "b9fbea30-ba72-4202-8d46-8401851055ac",
   "metadata": {},
   "outputs": [],
   "source": [
    "qa_pairs = []\n",
    "for r in responses:\n",
    "    qa_pairs.extend(r['choices'][0]['text'].strip().split('\\n\\n'))"
   ]
  },
  {
   "cell_type": "raw",
   "id": "3742ae91-53ad-4e5b-bcdb-bd07c884aa50",
   "metadata": {},
   "source": [
    "merge with ID tags from the P tags"
   ]
  },
  {
   "cell_type": "raw",
   "id": "9f33a45f-579d-49ae-ab7a-ab9e3cb5e08b",
   "metadata": {},
   "source": [
    "I need to keep the references which block of informatino represents which part of the original site"
   ]
  },
  {
   "cell_type": "code",
   "execution_count": 84,
   "id": "75328ea5-bdf3-4b59-97c2-9bef5d57d5f5",
   "metadata": {},
   "outputs": [
    {
     "data": {
      "text/plain": [
       "['Q: What did Elon Musk confirm late Tuesday?',\n",
       " \"A: He will step down as Twitter's chief executive.\"]"
      ]
     },
     "execution_count": 84,
     "metadata": {},
     "output_type": "execute_result"
    }
   ],
   "source": [
    "qa_pairs[0].split('\\n')"
   ]
  },
  {
   "cell_type": "code",
   "execution_count": null,
   "id": "1193a8b4-9c45-41fe-972b-7ef44463112b",
   "metadata": {},
   "outputs": [],
   "source": []
  }
 ],
 "metadata": {
  "kernelspec": {
   "display_name": "questgen",
   "language": "python",
   "name": "questgen"
  },
  "language_info": {
   "codemirror_mode": {
    "name": "ipython",
    "version": 3
   },
   "file_extension": ".py",
   "mimetype": "text/x-python",
   "name": "python",
   "nbconvert_exporter": "python",
   "pygments_lexer": "ipython3",
   "version": "3.10.4"
  },
  "widgets": {
   "application/vnd.jupyter.widget-state+json": {
    "state": {},
    "version_major": 2,
    "version_minor": 0
   }
  }
 },
 "nbformat": 4,
 "nbformat_minor": 5
}
